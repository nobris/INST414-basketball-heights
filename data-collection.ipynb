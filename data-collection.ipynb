{
 "cells": [
  {
   "cell_type": "markdown",
   "id": "d0a19115",
   "metadata": {},
   "source": [
    "# Data Collection for INST414"
   ]
  },
  {
   "cell_type": "code",
   "execution_count": 6,
   "id": "83fe6038",
   "metadata": {},
   "outputs": [],
   "source": [
    "import pandas as pd\n",
    "import numpy as np\n",
    "import matplotlib.pyplot as plt\n",
    "import json\n",
    "import http.client\n",
    "import requests"
   ]
  },
  {
   "cell_type": "code",
   "execution_count": 79,
   "id": "3512f359",
   "metadata": {},
   "outputs": [],
   "source": [
    "# Initializing dataframes\n",
    "\n",
    "players = pd.DataFrame(columns = [\"id\", \"first_name\", \"last_name\", \"position\", \"height_feet\", \"height_inches\"])"
   ]
  },
  {
   "cell_type": "code",
   "execution_count": 80,
   "id": "88253258",
   "metadata": {
    "scrolled": false
   },
   "outputs": [
    {
     "name": "stdout",
     "output_type": "stream",
     "text": [
      "{'id': 2, 'first_name': 'Jaylen', 'height_feet': 6, 'height_inches': 2, 'last_name': 'Adams', 'position': 'G', 'team': {'id': 5, 'abbreviation': 'CHI', 'city': 'Chicago', 'conference': 'East', 'division': 'Central', 'full_name': 'Chicago Bulls', 'name': 'Bulls'}, 'weight_pounds': 190}\n"
     ]
    }
   ],
   "source": [
    "ID = \"2\"\n",
    "r = requests.get('https://www.balldontlie.io/api/v1/players/' + (ID))\n",
    "print(r.json())"
   ]
  },
  {
   "cell_type": "code",
   "execution_count": 77,
   "id": "ebea93fa",
   "metadata": {
    "scrolled": true
   },
   "outputs": [
    {
     "name": "stdout",
     "output_type": "stream",
     "text": [
      "{'id': 1, 'first_name': 'Alex', 'height_feet': 6, 'height_inches': 6, 'last_name': 'Abrines', 'position': 'G', 'team': {'id': 21, 'abbreviation': 'OKC', 'city': 'Oklahoma City', 'conference': 'West', 'division': 'Northwest', 'full_name': 'Oklahoma City Thunder', 'name': 'Thunder'}, 'weight_pounds': 200}\n",
      "{'id': 2, 'first_name': 'Jaylen', 'height_feet': 6, 'height_inches': 2, 'last_name': 'Adams', 'position': 'G', 'team': {'id': 5, 'abbreviation': 'CHI', 'city': 'Chicago', 'conference': 'East', 'division': 'Central', 'full_name': 'Chicago Bulls', 'name': 'Bulls'}, 'weight_pounds': 190}\n",
      "{'id': 3, 'first_name': 'Steven', 'height_feet': 7, 'height_inches': 0, 'last_name': 'Adams', 'position': 'C', 'team': {'id': 15, 'abbreviation': 'MEM', 'city': 'Memphis', 'conference': 'West', 'division': 'Southwest', 'full_name': 'Memphis Grizzlies', 'name': 'Grizzlies'}, 'weight_pounds': 265}\n",
      "{'id': 4, 'first_name': 'Bam', 'height_feet': 6, 'height_inches': 10, 'last_name': 'Adebayo', 'position': 'C-F', 'team': {'id': 16, 'abbreviation': 'MIA', 'city': 'Miami', 'conference': 'East', 'division': 'Southeast', 'full_name': 'Miami Heat', 'name': 'Heat'}, 'weight_pounds': 255}\n",
      "{'id': 5, 'first_name': 'DeVaughn', 'height_feet': None, 'height_inches': None, 'last_name': 'Akoon-Purcell', 'position': 'G-F', 'team': {'id': 1, 'abbreviation': 'ATL', 'city': 'Atlanta', 'conference': 'East', 'division': 'Southeast', 'full_name': 'Atlanta Hawks', 'name': 'Hawks'}, 'weight_pounds': None}\n",
      "{'id': 6, 'first_name': 'LaMarcus', 'height_feet': 6, 'height_inches': 11, 'last_name': 'Aldridge', 'position': 'F', 'team': {'id': 3, 'abbreviation': 'BKN', 'city': 'Brooklyn', 'conference': 'East', 'division': 'Atlantic', 'full_name': 'Brooklyn Nets', 'name': 'Nets'}, 'weight_pounds': 260}\n",
      "{'id': 7, 'first_name': 'Rawle', 'height_feet': 6, 'height_inches': 5, 'last_name': 'Alkins', 'position': 'G', 'team': {'id': 5, 'abbreviation': 'CHI', 'city': 'Chicago', 'conference': 'East', 'division': 'Central', 'full_name': 'Chicago Bulls', 'name': 'Bulls'}, 'weight_pounds': 225}\n",
      "{'id': 8, 'first_name': 'Grayson', 'height_feet': 6, 'height_inches': 5, 'last_name': 'Allen', 'position': 'G', 'team': {'id': 17, 'abbreviation': 'MIL', 'city': 'Milwaukee', 'conference': 'East', 'division': 'Central', 'full_name': 'Milwaukee Bucks', 'name': 'Bucks'}, 'weight_pounds': 198}\n",
      "{'id': 9, 'first_name': 'Jarrett', 'height_feet': 6, 'height_inches': 11, 'last_name': 'Allen', 'position': 'C', 'team': {'id': 6, 'abbreviation': 'CLE', 'city': 'Cleveland', 'conference': 'East', 'division': 'Central', 'full_name': 'Cleveland Cavaliers', 'name': 'Cavaliers'}, 'weight_pounds': 237}\n",
      "{'id': 10, 'first_name': 'Al-Farouq', 'height_feet': 6, 'height_inches': 9, 'last_name': 'Aminu', 'position': 'F', 'team': {'id': 2, 'abbreviation': 'BOS', 'city': 'Boston', 'conference': 'East', 'division': 'Atlantic', 'full_name': 'Boston Celtics', 'name': 'Celtics'}, 'weight_pounds': 220}\n",
      "{'id': 11, 'first_name': 'Justin', 'height_feet': 6, 'height_inches': 6, 'last_name': 'Anderson', 'position': 'G-F', 'team': {'id': 12, 'abbreviation': 'IND', 'city': 'Indiana', 'conference': 'East', 'division': 'Central', 'full_name': 'Indiana Pacers', 'name': 'Pacers'}, 'weight_pounds': 230}\n",
      "{'id': 12, 'first_name': 'Kyle', 'height_feet': 6, 'height_inches': 9, 'last_name': 'Anderson', 'position': 'F', 'team': {'id': 15, 'abbreviation': 'MEM', 'city': 'Memphis', 'conference': 'West', 'division': 'Southwest', 'full_name': 'Memphis Grizzlies', 'name': 'Grizzlies'}, 'weight_pounds': 230}\n",
      "{'id': 13, 'first_name': 'Ryan', 'height_feet': 6, 'height_inches': 10, 'last_name': 'Anderson', 'position': 'F', 'team': {'id': 11, 'abbreviation': 'HOU', 'city': 'Houston', 'conference': 'West', 'division': 'Southwest', 'full_name': 'Houston Rockets', 'name': 'Rockets'}, 'weight_pounds': 240}\n",
      "{'id': 14, 'first_name': 'Ike', 'height_feet': None, 'height_inches': None, 'last_name': 'Anigbogu', 'position': 'C', 'team': {'id': 12, 'abbreviation': 'IND', 'city': 'Indiana', 'conference': 'East', 'division': 'Central', 'full_name': 'Indiana Pacers', 'name': 'Pacers'}, 'weight_pounds': None}\n",
      "{'id': 15, 'first_name': 'Giannis', 'height_feet': 6, 'height_inches': 11, 'last_name': 'Antetokounmpo', 'position': 'F', 'team': {'id': 17, 'abbreviation': 'MIL', 'city': 'Milwaukee', 'conference': 'East', 'division': 'Central', 'full_name': 'Milwaukee Bucks', 'name': 'Bucks'}, 'weight_pounds': 242}\n",
      "{'id': 16, 'first_name': 'Kostas', 'height_feet': 6, 'height_inches': 10, 'last_name': 'Antetokounmpo', 'position': 'F', 'team': {'id': 14, 'abbreviation': 'LAL', 'city': 'Los Angeles', 'conference': 'West', 'division': 'Pacific', 'full_name': 'Los Angeles Lakers', 'name': 'Lakers'}, 'weight_pounds': 200}\n",
      "{'id': 17, 'first_name': 'Carmelo', 'height_feet': None, 'height_inches': None, 'last_name': 'Anthony', 'position': 'F', 'team': {'id': 14, 'abbreviation': 'LAL', 'city': 'Los Angeles', 'conference': 'West', 'division': 'Pacific', 'full_name': 'Los Angeles Lakers', 'name': 'Lakers'}, 'weight_pounds': None}\n",
      "{'id': 18, 'first_name': 'OG', 'height_feet': 6, 'height_inches': 8, 'last_name': 'Anunoby', 'position': 'F', 'team': {'id': 28, 'abbreviation': 'TOR', 'city': 'Toronto', 'conference': 'East', 'division': 'Atlantic', 'full_name': 'Toronto Raptors', 'name': 'Raptors'}, 'weight_pounds': 232}\n",
      "{'id': 19, 'first_name': 'Ryan', 'height_feet': 6, 'height_inches': 3, 'last_name': 'Arcidiacono', 'position': 'G', 'team': {'id': 20, 'abbreviation': 'NYK', 'city': 'New York', 'conference': 'East', 'division': 'Atlantic', 'full_name': 'New York Knicks', 'name': 'Knicks'}, 'weight_pounds': 200}\n",
      "{'id': 20, 'first_name': 'Trevor', 'height_feet': 6, 'height_inches': 8, 'last_name': 'Ariza', 'position': 'F', 'team': {'id': 14, 'abbreviation': 'LAL', 'city': 'Los Angeles', 'conference': 'West', 'division': 'Pacific', 'full_name': 'Los Angeles Lakers', 'name': 'Lakers'}, 'weight_pounds': 215}\n",
      "{'id': 21, 'first_name': 'D.J.', 'height_feet': 6, 'height_inches': 0, 'last_name': 'Augustin', 'position': 'G', 'team': {'id': 14, 'abbreviation': 'LAL', 'city': 'Los Angeles', 'conference': 'West', 'division': 'Pacific', 'full_name': 'Los Angeles Lakers', 'name': 'Lakers'}, 'weight_pounds': 183}\n",
      "{'id': 22, 'first_name': 'Deandre', 'height_feet': 7, 'height_inches': 1, 'last_name': 'Ayton', 'position': 'C', 'team': {'id': 24, 'abbreviation': 'PHX', 'city': 'Phoenix', 'conference': 'West', 'division': 'Pacific', 'full_name': 'Phoenix Suns', 'name': 'Suns'}, 'weight_pounds': 250}\n",
      "{'id': 23, 'first_name': 'Dwayne', 'height_feet': 6, 'height_inches': 7, 'last_name': 'Bacon', 'position': 'G-F', 'team': {'id': 20, 'abbreviation': 'NYK', 'city': 'New York', 'conference': 'East', 'division': 'Atlantic', 'full_name': 'New York Knicks', 'name': 'Knicks'}, 'weight_pounds': 221}\n",
      "{'id': 24, 'first_name': 'Marvin', 'height_feet': 6, 'height_inches': 11, 'last_name': 'Bagley III', 'position': 'F', 'team': {'id': 9, 'abbreviation': 'DET', 'city': 'Detroit', 'conference': 'East', 'division': 'Central', 'full_name': 'Detroit Pistons', 'name': 'Pistons'}, 'weight_pounds': 234}\n",
      "{'id': 25, 'first_name': 'Ron', 'height_feet': None, 'height_inches': None, 'last_name': 'Baker', 'position': 'G', 'team': {'id': 20, 'abbreviation': 'NYK', 'city': 'New York', 'conference': 'East', 'division': 'Atlantic', 'full_name': 'New York Knicks', 'name': 'Knicks'}, 'weight_pounds': None}\n",
      "{'id': 26, 'first_name': 'Wade', 'height_feet': 6, 'height_inches': 4, 'last_name': 'Baldwin IV', 'position': 'G', 'team': {'id': 11, 'abbreviation': 'HOU', 'city': 'Houston', 'conference': 'West', 'division': 'Southwest', 'full_name': 'Houston Rockets', 'name': 'Rockets'}, 'weight_pounds': 200}\n",
      "{'id': 27, 'first_name': 'Lonzo', 'height_feet': 6, 'height_inches': 6, 'last_name': 'Ball', 'position': 'G', 'team': {'id': 5, 'abbreviation': 'CHI', 'city': 'Chicago', 'conference': 'East', 'division': 'Central', 'full_name': 'Chicago Bulls', 'name': 'Bulls'}, 'weight_pounds': 190}\n",
      "{'id': 28, 'first_name': 'Mo', 'height_feet': 7, 'height_inches': 0, 'last_name': 'Bamba', 'position': 'C', 'team': {'id': 22, 'abbreviation': 'ORL', 'city': 'Orlando', 'conference': 'East', 'division': 'Southeast', 'full_name': 'Orlando Magic', 'name': 'Magic'}, 'weight_pounds': 221}\n"
     ]
    },
    {
     "name": "stdout",
     "output_type": "stream",
     "text": [
      "{'id': 29, 'first_name': 'J.J.', 'height_feet': 6, 'height_inches': 0, 'last_name': 'Barea', 'position': 'G', 'team': {'id': 7, 'abbreviation': 'DAL', 'city': 'Dallas', 'conference': 'West', 'division': 'Southwest', 'full_name': 'Dallas Mavericks', 'name': 'Mavericks'}, 'weight_pounds': 185}\n",
      "{'id': 30, 'first_name': 'Harrison', 'height_feet': 6, 'height_inches': 8, 'last_name': 'Barnes', 'position': 'F', 'team': {'id': 26, 'abbreviation': 'SAC', 'city': 'Sacramento', 'conference': 'West', 'division': 'Pacific', 'full_name': 'Sacramento Kings', 'name': 'Kings'}, 'weight_pounds': 225}\n",
      "{'id': 31, 'first_name': 'Will', 'height_feet': 6, 'height_inches': 6, 'last_name': 'Barton', 'position': 'G', 'team': {'id': 8, 'abbreviation': 'DEN', 'city': 'Denver', 'conference': 'West', 'division': 'Northwest', 'full_name': 'Denver Nuggets', 'name': 'Nuggets'}, 'weight_pounds': 190}\n",
      "{'id': 32, 'first_name': 'Keita', 'height_feet': 6, 'height_inches': 9, 'last_name': 'Bates-Diop', 'position': 'F', 'team': {'id': 27, 'abbreviation': 'SAS', 'city': 'San Antonio', 'conference': 'West', 'division': 'Southwest', 'full_name': 'San Antonio Spurs', 'name': 'Spurs'}, 'weight_pounds': 229}\n",
      "{'id': 33, 'first_name': 'Nicolas', 'height_feet': 6, 'height_inches': 8, 'last_name': 'Batum', 'position': 'F-G', 'team': {'id': 13, 'abbreviation': 'LAC', 'city': 'LA', 'conference': 'West', 'division': 'Pacific', 'full_name': 'LA Clippers', 'name': 'Clippers'}, 'weight_pounds': 200}\n",
      "{'id': 34, 'first_name': 'Jerryd', 'height_feet': 6, 'height_inches': 3, 'last_name': 'Bayless', 'position': 'G', 'team': {'id': 18, 'abbreviation': 'MIN', 'city': 'Minnesota', 'conference': 'West', 'division': 'Northwest', 'full_name': 'Minnesota Timberwolves', 'name': 'Timberwolves'}, 'weight_pounds': 200}\n",
      "{'id': 35, 'first_name': 'Aron', 'height_feet': 6, 'height_inches': 10, 'last_name': 'Baynes', 'position': 'C-F', 'team': {'id': 28, 'abbreviation': 'TOR', 'city': 'Toronto', 'conference': 'East', 'division': 'Atlantic', 'full_name': 'Toronto Raptors', 'name': 'Raptors'}, 'weight_pounds': 260}\n",
      "{'id': 36, 'first_name': 'Kent', 'height_feet': 6, 'height_inches': 5, 'last_name': 'Bazemore', 'position': 'G', 'team': {'id': 14, 'abbreviation': 'LAL', 'city': 'Los Angeles', 'conference': 'West', 'division': 'Pacific', 'full_name': 'Los Angeles Lakers', 'name': 'Lakers'}, 'weight_pounds': 201}\n",
      "{'id': 37, 'first_name': 'Bradley', 'height_feet': 6, 'height_inches': 5, 'last_name': 'Beal', 'position': 'G', 'team': {'id': 30, 'abbreviation': 'WAS', 'city': 'Washington', 'conference': 'East', 'division': 'Southeast', 'full_name': 'Washington Wizards', 'name': 'Wizards'}, 'weight_pounds': 207}\n",
      "{'id': 38, 'first_name': 'Malik', 'height_feet': 6, 'height_inches': 5, 'last_name': 'Beasley', 'position': 'G', 'team': {'id': 18, 'abbreviation': 'MIN', 'city': 'Minnesota', 'conference': 'West', 'division': 'Northwest', 'full_name': 'Minnesota Timberwolves', 'name': 'Timberwolves'}, 'weight_pounds': 195}\n",
      "{'id': 39, 'first_name': 'Michael', 'height_feet': 6, 'height_inches': 9, 'last_name': 'Beasley', 'position': 'F', 'team': {'id': 25, 'abbreviation': 'POR', 'city': 'Portland', 'conference': 'West', 'division': 'Northwest', 'full_name': 'Portland Trail Blazers', 'name': 'Trail Blazers'}, 'weight_pounds': 235}\n",
      "{'id': 40, 'first_name': 'Marco', 'height_feet': 6, 'height_inches': 5, 'last_name': 'Belinelli', 'position': 'G-F', 'team': {'id': 27, 'abbreviation': 'SAS', 'city': 'San Antonio', 'conference': 'West', 'division': 'Southwest', 'full_name': 'San Antonio Spurs', 'name': 'Spurs'}, 'weight_pounds': 210}\n",
      "{'id': 41, 'first_name': 'Jordan', 'height_feet': 6, 'height_inches': 9, 'last_name': 'Bell', 'position': 'F', 'team': {'id': 5, 'abbreviation': 'CHI', 'city': 'Chicago', 'conference': 'East', 'division': 'Central', 'full_name': 'Chicago Bulls', 'name': 'Bulls'}, 'weight_pounds': 224}\n",
      "{'id': 42, 'first_name': \"DeAndre'\", 'height_feet': 6, 'height_inches': 6, 'last_name': 'Bembry', 'position': 'F', 'team': {'id': 17, 'abbreviation': 'MIL', 'city': 'Milwaukee', 'conference': 'East', 'division': 'Central', 'full_name': 'Milwaukee Bucks', 'name': 'Bucks'}, 'weight_pounds': 210}\n",
      "{'id': 43, 'first_name': 'Dragan', 'height_feet': 7, 'height_inches': 1, 'last_name': 'Bender', 'position': 'F', 'team': {'id': 10, 'abbreviation': 'GSW', 'city': 'Golden State', 'conference': 'West', 'division': 'Pacific', 'full_name': 'Golden State Warriors', 'name': 'Warriors'}, 'weight_pounds': 225}\n",
      "{'id': 44, 'first_name': 'Davis', 'height_feet': 6, 'height_inches': 10, 'last_name': 'Bertans', 'position': 'F', 'team': {'id': 7, 'abbreviation': 'DAL', 'city': 'Dallas', 'conference': 'West', 'division': 'Southwest', 'full_name': 'Dallas Mavericks', 'name': 'Mavericks'}, 'weight_pounds': 225}\n",
      "{'id': 45, 'first_name': 'Patrick', 'height_feet': 6, 'height_inches': 1, 'last_name': 'Beverley', 'position': 'G', 'team': {'id': 18, 'abbreviation': 'MIN', 'city': 'Minnesota', 'conference': 'West', 'division': 'Northwest', 'full_name': 'Minnesota Timberwolves', 'name': 'Timberwolves'}, 'weight_pounds': 185}\n",
      "{'id': 46, 'first_name': 'Khem', 'height_feet': 6, 'height_inches': 9, 'last_name': 'Birch', 'position': 'C', 'team': {'id': 28, 'abbreviation': 'TOR', 'city': 'Toronto', 'conference': 'East', 'division': 'Atlantic', 'full_name': 'Toronto Raptors', 'name': 'Raptors'}, 'weight_pounds': 233}\n",
      "{'id': 47, 'first_name': 'Jabari', 'height_feet': None, 'height_inches': None, 'last_name': 'Bird', 'position': 'G', 'team': {'id': 2, 'abbreviation': 'BOS', 'city': 'Boston', 'conference': 'East', 'division': 'Atlantic', 'full_name': 'Boston Celtics', 'name': 'Celtics'}, 'weight_pounds': None}\n",
      "{'id': 48, 'first_name': 'Bismack', 'height_feet': 6, 'height_inches': 9, 'last_name': 'Biyombo', 'position': 'C', 'team': {'id': 24, 'abbreviation': 'PHX', 'city': 'Phoenix', 'conference': 'West', 'division': 'Pacific', 'full_name': 'Phoenix Suns', 'name': 'Suns'}, 'weight_pounds': 255}\n",
      "{'id': 49, 'first_name': 'Nemanja', 'height_feet': 6, 'height_inches': 10, 'last_name': 'Bjelica', 'position': 'F', 'team': {'id': 10, 'abbreviation': 'GSW', 'city': 'Golden State', 'conference': 'West', 'division': 'Pacific', 'full_name': 'Golden State Warriors', 'name': 'Warriors'}, 'weight_pounds': 234}\n",
      "{'id': 50, 'first_name': 'Antonio', 'height_feet': 6, 'height_inches': 4, 'last_name': 'Blakeney', 'position': 'G', 'team': {'id': 25, 'abbreviation': 'POR', 'city': 'Portland', 'conference': 'West', 'division': 'Northwest', 'full_name': 'Portland Trail Blazers', 'name': 'Trail Blazers'}, 'weight_pounds': 192}\n",
      "{'id': 51, 'first_name': 'Eric', 'height_feet': 6, 'height_inches': 1, 'last_name': 'Bledsoe', 'position': 'G', 'team': {'id': 25, 'abbreviation': 'POR', 'city': 'Portland', 'conference': 'West', 'division': 'Northwest', 'full_name': 'Portland Trail Blazers', 'name': 'Trail Blazers'}, 'weight_pounds': 205}\n",
      "{'id': 52, 'first_name': 'Trevon', 'height_feet': 6, 'height_inches': 6, 'last_name': 'Bluiett', 'position': 'G-F', 'team': {'id': 6, 'abbreviation': 'CLE', 'city': 'Cleveland', 'conference': 'East', 'division': 'Central', 'full_name': 'Cleveland Cavaliers', 'name': 'Cavaliers'}, 'weight_pounds': 198}\n",
      "{'id': 53, 'first_name': 'Bogdan', 'height_feet': 6, 'height_inches': 6, 'last_name': 'Bogdanovic', 'position': 'G', 'team': {'id': 1, 'abbreviation': 'ATL', 'city': 'Atlanta', 'conference': 'East', 'division': 'Southeast', 'full_name': 'Atlanta Hawks', 'name': 'Hawks'}, 'weight_pounds': 205}\n",
      "{'id': 54, 'first_name': 'Bojan', 'height_feet': 6, 'height_inches': 8, 'last_name': 'Bogdanovic', 'position': 'F', 'team': {'id': 29, 'abbreviation': 'UTA', 'city': 'Utah', 'conference': 'West', 'division': 'Northwest', 'full_name': 'Utah Jazz', 'name': 'Jazz'}, 'weight_pounds': 216}\n",
      "{'id': 55, 'first_name': 'Jonah', 'height_feet': 6, 'height_inches': 10, 'last_name': 'Bolden', 'position': 'F', 'team': {'id': 24, 'abbreviation': 'PHX', 'city': 'Phoenix', 'conference': 'West', 'division': 'Pacific', 'full_name': 'Phoenix Suns', 'name': 'Suns'}, 'weight_pounds': 220}\n",
      "{'id': 56, 'first_name': 'Isaac', 'height_feet': 6, 'height_inches': 8, 'last_name': 'Bonga', 'position': 'G', 'team': {'id': 28, 'abbreviation': 'TOR', 'city': 'Toronto', 'conference': 'East', 'division': 'Atlantic', 'full_name': 'Toronto Raptors', 'name': 'Raptors'}, 'weight_pounds': 180}\n",
      "{'id': 57, 'first_name': 'Devin', 'height_feet': 6, 'height_inches': 6, 'last_name': 'Booker', 'position': 'G', 'team': {'id': 24, 'abbreviation': 'PHX', 'city': 'Phoenix', 'conference': 'West', 'division': 'Pacific', 'full_name': 'Phoenix Suns', 'name': 'Suns'}, 'weight_pounds': 210}\n",
      "{'id': 58, 'first_name': 'Chris', 'height_feet': 6, 'height_inches': 10, 'last_name': 'Boucher', 'position': 'F', 'team': {'id': 28, 'abbreviation': 'TOR', 'city': 'Toronto', 'conference': 'East', 'division': 'Atlantic', 'full_name': 'Toronto Raptors', 'name': 'Raptors'}, 'weight_pounds': 200}\n"
     ]
    },
    {
     "name": "stdout",
     "output_type": "stream",
     "text": [
      "{'id': 59, 'first_name': 'Avery', 'height_feet': 6, 'height_inches': 2, 'last_name': 'Bradley', 'position': 'G', 'team': {'id': 14, 'abbreviation': 'LAL', 'city': 'Los Angeles', 'conference': 'West', 'division': 'Pacific', 'full_name': 'Los Angeles Lakers', 'name': 'Lakers'}, 'weight_pounds': 180}\n",
      "{'id': 60, 'first_name': 'Tony', 'height_feet': 6, 'height_inches': 10, 'last_name': 'Bradley', 'position': 'C', 'team': {'id': 5, 'abbreviation': 'CHI', 'city': 'Chicago', 'conference': 'East', 'division': 'Central', 'full_name': 'Chicago Bulls', 'name': 'Bulls'}, 'weight_pounds': 248}\n"
     ]
    }
   ],
   "source": [
    "for x in range(1, 61):\n",
    "    r = requests.get('https://www.balldontlie.io/api/v1/players/' + str(x))\n",
    "    print(r.json())"
   ]
  },
  {
   "cell_type": "code",
   "execution_count": 85,
   "id": "80cd5206",
   "metadata": {},
   "outputs": [
    {
     "data": {
      "text/plain": [
       "{'id': 2,\n",
       " 'first_name': 'Jaylen',\n",
       " 'height_feet': 6,\n",
       " 'height_inches': 2,\n",
       " 'last_name': 'Adams',\n",
       " 'position': 'G',\n",
       " 'team': {'id': 5,\n",
       "  'abbreviation': 'CHI',\n",
       "  'city': 'Chicago',\n",
       "  'conference': 'East',\n",
       "  'division': 'Central',\n",
       "  'full_name': 'Chicago Bulls',\n",
       "  'name': 'Bulls'},\n",
       " 'weight_pounds': 190}"
      ]
     },
     "execution_count": 85,
     "metadata": {},
     "output_type": "execute_result"
    }
   ],
   "source": [
    "# test = pd.read_json(r.json())\n",
    "r.json()"
   ]
  },
  {
   "cell_type": "code",
   "execution_count": null,
   "id": "6711c584",
   "metadata": {},
   "outputs": [],
   "source": []
  }
 ],
 "metadata": {
  "kernelspec": {
   "display_name": "Python 3 (ipykernel)",
   "language": "python",
   "name": "python3"
  },
  "language_info": {
   "codemirror_mode": {
    "name": "ipython",
    "version": 3
   },
   "file_extension": ".py",
   "mimetype": "text/x-python",
   "name": "python",
   "nbconvert_exporter": "python",
   "pygments_lexer": "ipython3",
   "version": "3.10.2"
  }
 },
 "nbformat": 4,
 "nbformat_minor": 5
}
